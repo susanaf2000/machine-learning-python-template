{
    "cells": [
        {
            "cell_type": "markdown",
            "metadata": {},
            "source": [
                "# Explore here"
            ]
        },
        {
            "cell_type": "code",
            "execution_count": 5,
            "metadata": {},
            "outputs": [
                {
                    "ename": "ModuleNotFoundError",
                    "evalue": "No module named 'pandas'",
                    "output_type": "error",
                    "traceback": [
                        "\u001b[0;31m---------------------------------------------------------------------------\u001b[0m",
                        "\u001b[0;31mModuleNotFoundError\u001b[0m                       Traceback (most recent call last)",
                        "Cell \u001b[0;32mIn[5], line 4\u001b[0m\n\u001b[1;32m      2\u001b[0m \u001b[38;5;28;01mimport\u001b[39;00m \u001b[38;5;21;01mrequests\u001b[39;00m\n\u001b[1;32m      3\u001b[0m \u001b[38;5;28;01mimport\u001b[39;00m \u001b[38;5;21;01mos\u001b[39;00m\n\u001b[0;32m----> 4\u001b[0m \u001b[38;5;28;01mimport\u001b[39;00m \u001b[38;5;21;01mpandas\u001b[39;00m \u001b[38;5;28;01mas\u001b[39;00m \u001b[38;5;21;01mpd\u001b[39;00m\n",
                        "\u001b[0;31mModuleNotFoundError\u001b[0m: No module named 'pandas'"
                    ]
                }
            ],
            "source": [
                "# Your code here\n",
                "import requests\n",
                "import os\n",
                "import pandas as pd"
            ]
        },
        {
            "cell_type": "code",
            "execution_count": 16,
            "metadata": {},
            "outputs": [
                {
                    "data": {
                        "text/html": [
                            "<div>\n",
                            "<style scoped>\n",
                            "    .dataframe tbody tr th:only-of-type {\n",
                            "        vertical-align: middle;\n",
                            "    }\n",
                            "\n",
                            "    .dataframe tbody tr th {\n",
                            "        vertical-align: top;\n",
                            "    }\n",
                            "\n",
                            "    .dataframe thead th {\n",
                            "        text-align: right;\n",
                            "    }\n",
                            "</style>\n",
                            "<table border=\"1\" class=\"dataframe\">\n",
                            "  <thead>\n",
                            "    <tr style=\"text-align: right;\">\n",
                            "      <th></th>\n",
                            "      <th>id</th>\n",
                            "      <th>name</th>\n",
                            "      <th>host_id</th>\n",
                            "      <th>host_name</th>\n",
                            "      <th>neighbourhood_group</th>\n",
                            "      <th>neighbourhood</th>\n",
                            "      <th>latitude</th>\n",
                            "      <th>longitude</th>\n",
                            "      <th>room_type</th>\n",
                            "      <th>price</th>\n",
                            "      <th>minimum_nights</th>\n",
                            "      <th>number_of_reviews</th>\n",
                            "      <th>last_review</th>\n",
                            "      <th>reviews_per_month</th>\n",
                            "      <th>calculated_host_listings_count</th>\n",
                            "      <th>availability_365</th>\n",
                            "    </tr>\n",
                            "  </thead>\n",
                            "  <tbody>\n",
                            "    <tr>\n",
                            "      <th>0</th>\n",
                            "      <td>2539</td>\n",
                            "      <td>Clean &amp; quiet apt home by the park</td>\n",
                            "      <td>2787</td>\n",
                            "      <td>John</td>\n",
                            "      <td>Brooklyn</td>\n",
                            "      <td>Kensington</td>\n",
                            "      <td>40.64749</td>\n",
                            "      <td>-73.97237</td>\n",
                            "      <td>Private room</td>\n",
                            "      <td>149</td>\n",
                            "      <td>1</td>\n",
                            "      <td>9</td>\n",
                            "      <td>2018-10-19</td>\n",
                            "      <td>0.21</td>\n",
                            "      <td>6</td>\n",
                            "      <td>365</td>\n",
                            "    </tr>\n",
                            "    <tr>\n",
                            "      <th>1</th>\n",
                            "      <td>2595</td>\n",
                            "      <td>Skylit Midtown Castle</td>\n",
                            "      <td>2845</td>\n",
                            "      <td>Jennifer</td>\n",
                            "      <td>Manhattan</td>\n",
                            "      <td>Midtown</td>\n",
                            "      <td>40.75362</td>\n",
                            "      <td>-73.98377</td>\n",
                            "      <td>Entire home/apt</td>\n",
                            "      <td>225</td>\n",
                            "      <td>1</td>\n",
                            "      <td>45</td>\n",
                            "      <td>2019-05-21</td>\n",
                            "      <td>0.38</td>\n",
                            "      <td>2</td>\n",
                            "      <td>355</td>\n",
                            "    </tr>\n",
                            "    <tr>\n",
                            "      <th>2</th>\n",
                            "      <td>3647</td>\n",
                            "      <td>THE VILLAGE OF HARLEM....NEW YORK !</td>\n",
                            "      <td>4632</td>\n",
                            "      <td>Elisabeth</td>\n",
                            "      <td>Manhattan</td>\n",
                            "      <td>Harlem</td>\n",
                            "      <td>40.80902</td>\n",
                            "      <td>-73.94190</td>\n",
                            "      <td>Private room</td>\n",
                            "      <td>150</td>\n",
                            "      <td>3</td>\n",
                            "      <td>0</td>\n",
                            "      <td>NaN</td>\n",
                            "      <td>NaN</td>\n",
                            "      <td>1</td>\n",
                            "      <td>365</td>\n",
                            "    </tr>\n",
                            "    <tr>\n",
                            "      <th>3</th>\n",
                            "      <td>3831</td>\n",
                            "      <td>Cozy Entire Floor of Brownstone</td>\n",
                            "      <td>4869</td>\n",
                            "      <td>LisaRoxanne</td>\n",
                            "      <td>Brooklyn</td>\n",
                            "      <td>Clinton Hill</td>\n",
                            "      <td>40.68514</td>\n",
                            "      <td>-73.95976</td>\n",
                            "      <td>Entire home/apt</td>\n",
                            "      <td>89</td>\n",
                            "      <td>1</td>\n",
                            "      <td>270</td>\n",
                            "      <td>2019-07-05</td>\n",
                            "      <td>4.64</td>\n",
                            "      <td>1</td>\n",
                            "      <td>194</td>\n",
                            "    </tr>\n",
                            "    <tr>\n",
                            "      <th>4</th>\n",
                            "      <td>5022</td>\n",
                            "      <td>Entire Apt: Spacious Studio/Loft by central park</td>\n",
                            "      <td>7192</td>\n",
                            "      <td>Laura</td>\n",
                            "      <td>Manhattan</td>\n",
                            "      <td>East Harlem</td>\n",
                            "      <td>40.79851</td>\n",
                            "      <td>-73.94399</td>\n",
                            "      <td>Entire home/apt</td>\n",
                            "      <td>80</td>\n",
                            "      <td>10</td>\n",
                            "      <td>9</td>\n",
                            "      <td>2018-11-19</td>\n",
                            "      <td>0.10</td>\n",
                            "      <td>1</td>\n",
                            "      <td>0</td>\n",
                            "    </tr>\n",
                            "  </tbody>\n",
                            "</table>\n",
                            "</div>"
                        ],
                        "text/plain": [
                            "     id                                              name  host_id  \\\n",
                            "0  2539                Clean & quiet apt home by the park     2787   \n",
                            "1  2595                             Skylit Midtown Castle     2845   \n",
                            "2  3647               THE VILLAGE OF HARLEM....NEW YORK !     4632   \n",
                            "3  3831                   Cozy Entire Floor of Brownstone     4869   \n",
                            "4  5022  Entire Apt: Spacious Studio/Loft by central park     7192   \n",
                            "\n",
                            "     host_name neighbourhood_group neighbourhood  latitude  longitude  \\\n",
                            "0         John            Brooklyn    Kensington  40.64749  -73.97237   \n",
                            "1     Jennifer           Manhattan       Midtown  40.75362  -73.98377   \n",
                            "2    Elisabeth           Manhattan        Harlem  40.80902  -73.94190   \n",
                            "3  LisaRoxanne            Brooklyn  Clinton Hill  40.68514  -73.95976   \n",
                            "4        Laura           Manhattan   East Harlem  40.79851  -73.94399   \n",
                            "\n",
                            "         room_type  price  minimum_nights  number_of_reviews last_review  \\\n",
                            "0     Private room    149               1                  9  2018-10-19   \n",
                            "1  Entire home/apt    225               1                 45  2019-05-21   \n",
                            "2     Private room    150               3                  0         NaN   \n",
                            "3  Entire home/apt     89               1                270  2019-07-05   \n",
                            "4  Entire home/apt     80              10                  9  2018-11-19   \n",
                            "\n",
                            "   reviews_per_month  calculated_host_listings_count  availability_365  \n",
                            "0               0.21                               6               365  \n",
                            "1               0.38                               2               355  \n",
                            "2                NaN                               1               365  \n",
                            "3               4.64                               1               194  \n",
                            "4               0.10                               1                 0  "
                        ]
                    },
                    "execution_count": 16,
                    "metadata": {},
                    "output_type": "execute_result"
                }
            ],
            "source": [
                "import pandas as pd \n",
                "\n",
                "df = pd.read_csv(\"../data/raw/data.csv\")\n",
                "\n",
                "df.head()"
            ]
        },
        {
            "cell_type": "code",
            "execution_count": 37,
            "metadata": {},
            "outputs": [
                {
                    "data": {
                        "text/plain": [
                            "(48884, 13)"
                        ]
                    },
                    "execution_count": 37,
                    "metadata": {},
                    "output_type": "execute_result"
                }
            ],
            "source": [
                "df.shape"
            ]
        },
        {
            "cell_type": "code",
            "execution_count": 29,
            "metadata": {},
            "outputs": [
                {
                    "data": {
                        "text/plain": [
                            "Index(['name', 'host_id', 'neighbourhood_group', 'neighbourhood', 'latitude',\n",
                            "       'longitude', 'room_type', 'price', 'minimum_nights',\n",
                            "       'number_of_reviews', 'reviews_per_month',\n",
                            "       'calculated_host_listings_count', 'availability_365'],\n",
                            "      dtype='object')"
                        ]
                    },
                    "execution_count": 29,
                    "metadata": {},
                    "output_type": "execute_result"
                }
            ],
            "source": [
                "df.columns"
            ]
        },
        {
            "cell_type": "code",
            "execution_count": 17,
            "metadata": {},
            "outputs": [
                {
                    "data": {
                        "text/html": [
                            "<div>\n",
                            "<style scoped>\n",
                            "    .dataframe tbody tr th:only-of-type {\n",
                            "        vertical-align: middle;\n",
                            "    }\n",
                            "\n",
                            "    .dataframe tbody tr th {\n",
                            "        vertical-align: top;\n",
                            "    }\n",
                            "\n",
                            "    .dataframe thead th {\n",
                            "        text-align: right;\n",
                            "    }\n",
                            "</style>\n",
                            "<table border=\"1\" class=\"dataframe\">\n",
                            "  <thead>\n",
                            "    <tr style=\"text-align: right;\">\n",
                            "      <th></th>\n",
                            "      <th>id</th>\n",
                            "      <th>host_id</th>\n",
                            "      <th>latitude</th>\n",
                            "      <th>longitude</th>\n",
                            "      <th>price</th>\n",
                            "      <th>minimum_nights</th>\n",
                            "      <th>number_of_reviews</th>\n",
                            "      <th>reviews_per_month</th>\n",
                            "      <th>calculated_host_listings_count</th>\n",
                            "      <th>availability_365</th>\n",
                            "    </tr>\n",
                            "  </thead>\n",
                            "  <tbody>\n",
                            "    <tr>\n",
                            "      <th>count</th>\n",
                            "      <td>4.889500e+04</td>\n",
                            "      <td>4.889500e+04</td>\n",
                            "      <td>48895.000000</td>\n",
                            "      <td>48895.000000</td>\n",
                            "      <td>48895.000000</td>\n",
                            "      <td>48895.000000</td>\n",
                            "      <td>48895.000000</td>\n",
                            "      <td>38843.000000</td>\n",
                            "      <td>48895.000000</td>\n",
                            "      <td>48895.000000</td>\n",
                            "    </tr>\n",
                            "    <tr>\n",
                            "      <th>mean</th>\n",
                            "      <td>1.901714e+07</td>\n",
                            "      <td>6.762001e+07</td>\n",
                            "      <td>40.728949</td>\n",
                            "      <td>-73.952170</td>\n",
                            "      <td>152.720687</td>\n",
                            "      <td>7.029962</td>\n",
                            "      <td>23.274466</td>\n",
                            "      <td>1.373221</td>\n",
                            "      <td>7.143982</td>\n",
                            "      <td>112.781327</td>\n",
                            "    </tr>\n",
                            "    <tr>\n",
                            "      <th>std</th>\n",
                            "      <td>1.098311e+07</td>\n",
                            "      <td>7.861097e+07</td>\n",
                            "      <td>0.054530</td>\n",
                            "      <td>0.046157</td>\n",
                            "      <td>240.154170</td>\n",
                            "      <td>20.510550</td>\n",
                            "      <td>44.550582</td>\n",
                            "      <td>1.680442</td>\n",
                            "      <td>32.952519</td>\n",
                            "      <td>131.622289</td>\n",
                            "    </tr>\n",
                            "    <tr>\n",
                            "      <th>min</th>\n",
                            "      <td>2.539000e+03</td>\n",
                            "      <td>2.438000e+03</td>\n",
                            "      <td>40.499790</td>\n",
                            "      <td>-74.244420</td>\n",
                            "      <td>0.000000</td>\n",
                            "      <td>1.000000</td>\n",
                            "      <td>0.000000</td>\n",
                            "      <td>0.010000</td>\n",
                            "      <td>1.000000</td>\n",
                            "      <td>0.000000</td>\n",
                            "    </tr>\n",
                            "    <tr>\n",
                            "      <th>25%</th>\n",
                            "      <td>9.471945e+06</td>\n",
                            "      <td>7.822033e+06</td>\n",
                            "      <td>40.690100</td>\n",
                            "      <td>-73.983070</td>\n",
                            "      <td>69.000000</td>\n",
                            "      <td>1.000000</td>\n",
                            "      <td>1.000000</td>\n",
                            "      <td>0.190000</td>\n",
                            "      <td>1.000000</td>\n",
                            "      <td>0.000000</td>\n",
                            "    </tr>\n",
                            "    <tr>\n",
                            "      <th>50%</th>\n",
                            "      <td>1.967728e+07</td>\n",
                            "      <td>3.079382e+07</td>\n",
                            "      <td>40.723070</td>\n",
                            "      <td>-73.955680</td>\n",
                            "      <td>106.000000</td>\n",
                            "      <td>3.000000</td>\n",
                            "      <td>5.000000</td>\n",
                            "      <td>0.720000</td>\n",
                            "      <td>1.000000</td>\n",
                            "      <td>45.000000</td>\n",
                            "    </tr>\n",
                            "    <tr>\n",
                            "      <th>75%</th>\n",
                            "      <td>2.915218e+07</td>\n",
                            "      <td>1.074344e+08</td>\n",
                            "      <td>40.763115</td>\n",
                            "      <td>-73.936275</td>\n",
                            "      <td>175.000000</td>\n",
                            "      <td>5.000000</td>\n",
                            "      <td>24.000000</td>\n",
                            "      <td>2.020000</td>\n",
                            "      <td>2.000000</td>\n",
                            "      <td>227.000000</td>\n",
                            "    </tr>\n",
                            "    <tr>\n",
                            "      <th>max</th>\n",
                            "      <td>3.648724e+07</td>\n",
                            "      <td>2.743213e+08</td>\n",
                            "      <td>40.913060</td>\n",
                            "      <td>-73.712990</td>\n",
                            "      <td>10000.000000</td>\n",
                            "      <td>1250.000000</td>\n",
                            "      <td>629.000000</td>\n",
                            "      <td>58.500000</td>\n",
                            "      <td>327.000000</td>\n",
                            "      <td>365.000000</td>\n",
                            "    </tr>\n",
                            "  </tbody>\n",
                            "</table>\n",
                            "</div>"
                        ],
                        "text/plain": [
                            "                 id       host_id      latitude     longitude         price  \\\n",
                            "count  4.889500e+04  4.889500e+04  48895.000000  48895.000000  48895.000000   \n",
                            "mean   1.901714e+07  6.762001e+07     40.728949    -73.952170    152.720687   \n",
                            "std    1.098311e+07  7.861097e+07      0.054530      0.046157    240.154170   \n",
                            "min    2.539000e+03  2.438000e+03     40.499790    -74.244420      0.000000   \n",
                            "25%    9.471945e+06  7.822033e+06     40.690100    -73.983070     69.000000   \n",
                            "50%    1.967728e+07  3.079382e+07     40.723070    -73.955680    106.000000   \n",
                            "75%    2.915218e+07  1.074344e+08     40.763115    -73.936275    175.000000   \n",
                            "max    3.648724e+07  2.743213e+08     40.913060    -73.712990  10000.000000   \n",
                            "\n",
                            "       minimum_nights  number_of_reviews  reviews_per_month  \\\n",
                            "count    48895.000000       48895.000000       38843.000000   \n",
                            "mean         7.029962          23.274466           1.373221   \n",
                            "std         20.510550          44.550582           1.680442   \n",
                            "min          1.000000           0.000000           0.010000   \n",
                            "25%          1.000000           1.000000           0.190000   \n",
                            "50%          3.000000           5.000000           0.720000   \n",
                            "75%          5.000000          24.000000           2.020000   \n",
                            "max       1250.000000         629.000000          58.500000   \n",
                            "\n",
                            "       calculated_host_listings_count  availability_365  \n",
                            "count                    48895.000000      48895.000000  \n",
                            "mean                         7.143982        112.781327  \n",
                            "std                         32.952519        131.622289  \n",
                            "min                          1.000000          0.000000  \n",
                            "25%                          1.000000          0.000000  \n",
                            "50%                          1.000000         45.000000  \n",
                            "75%                          2.000000        227.000000  \n",
                            "max                        327.000000        365.000000  "
                        ]
                    },
                    "execution_count": 17,
                    "metadata": {},
                    "output_type": "execute_result"
                }
            ],
            "source": [
                "df.describe()"
            ]
        },
        {
            "cell_type": "code",
            "execution_count": null,
            "metadata": {},
            "outputs": [],
            "source": [
                "# Drop the data that is sensitive info, we don't need it\n",
                "df.drop(['id', 'host_name', 'last_review'], axis=1, inplace=True)\n",
                "df"
            ]
        },
        {
            "cell_type": "code",
            "execution_count": 22,
            "metadata": {},
            "outputs": [
                {
                    "data": {
                        "text/plain": [
                            "name                                 16\n",
                            "host_id                               0\n",
                            "neighbourhood_group                   0\n",
                            "neighbourhood                         0\n",
                            "latitude                              0\n",
                            "longitude                             0\n",
                            "room_type                             0\n",
                            "price                                 0\n",
                            "minimum_nights                        0\n",
                            "number_of_reviews                     0\n",
                            "reviews_per_month                 10052\n",
                            "calculated_host_listings_count        0\n",
                            "availability_365                      0\n",
                            "dtype: int64"
                        ]
                    },
                    "execution_count": 22,
                    "metadata": {},
                    "output_type": "execute_result"
                }
            ],
            "source": [
                "df.isnull().sum()"
            ]
        },
        {
            "cell_type": "code",
            "execution_count": 23,
            "metadata": {},
            "outputs": [],
            "source": [
                "#replacing all NaN values in 'reviews_per_month' with 0\n",
                "df.fillna({'reviews_per_month' : 0}, inplace=True)"
            ]
        },
        {
            "cell_type": "code",
            "execution_count": 24,
            "metadata": {},
            "outputs": [
                {
                    "data": {
                        "text/plain": [
                            "name                              16\n",
                            "host_id                            0\n",
                            "neighbourhood_group                0\n",
                            "neighbourhood                      0\n",
                            "latitude                           0\n",
                            "longitude                          0\n",
                            "room_type                          0\n",
                            "price                              0\n",
                            "minimum_nights                     0\n",
                            "number_of_reviews                  0\n",
                            "reviews_per_month                  0\n",
                            "calculated_host_listings_count     0\n",
                            "availability_365                   0\n",
                            "dtype: int64"
                        ]
                    },
                    "execution_count": 24,
                    "metadata": {},
                    "output_type": "execute_result"
                }
            ],
            "source": [
                "df.isnull().sum()"
            ]
        },
        {
            "cell_type": "code",
            "execution_count": 26,
            "metadata": {},
            "outputs": [
                {
                    "data": {
                        "text/html": [
                            "<div>\n",
                            "<style scoped>\n",
                            "    .dataframe tbody tr th:only-of-type {\n",
                            "        vertical-align: middle;\n",
                            "    }\n",
                            "\n",
                            "    .dataframe tbody tr th {\n",
                            "        vertical-align: top;\n",
                            "    }\n",
                            "\n",
                            "    .dataframe thead th {\n",
                            "        text-align: right;\n",
                            "    }\n",
                            "</style>\n",
                            "<table border=\"1\" class=\"dataframe\">\n",
                            "  <thead>\n",
                            "    <tr style=\"text-align: right;\">\n",
                            "      <th></th>\n",
                            "      <th>price</th>\n",
                            "      <th>minimum_nights</th>\n",
                            "      <th>number_of_reviews</th>\n",
                            "      <th>reviews_per_month</th>\n",
                            "      <th>calculated_host_listings_count</th>\n",
                            "      <th>availability_365</th>\n",
                            "    </tr>\n",
                            "  </thead>\n",
                            "  <tbody>\n",
                            "    <tr>\n",
                            "      <th>count</th>\n",
                            "      <td>48895.000000</td>\n",
                            "      <td>48895.000000</td>\n",
                            "      <td>48895.000000</td>\n",
                            "      <td>48895.000000</td>\n",
                            "      <td>48895.000000</td>\n",
                            "      <td>48895.000000</td>\n",
                            "    </tr>\n",
                            "    <tr>\n",
                            "      <th>mean</th>\n",
                            "      <td>152.720687</td>\n",
                            "      <td>7.029962</td>\n",
                            "      <td>23.274466</td>\n",
                            "      <td>1.090910</td>\n",
                            "      <td>7.143982</td>\n",
                            "      <td>112.781327</td>\n",
                            "    </tr>\n",
                            "    <tr>\n",
                            "      <th>std</th>\n",
                            "      <td>240.154170</td>\n",
                            "      <td>20.510550</td>\n",
                            "      <td>44.550582</td>\n",
                            "      <td>1.597283</td>\n",
                            "      <td>32.952519</td>\n",
                            "      <td>131.622289</td>\n",
                            "    </tr>\n",
                            "    <tr>\n",
                            "      <th>min</th>\n",
                            "      <td>0.000000</td>\n",
                            "      <td>1.000000</td>\n",
                            "      <td>0.000000</td>\n",
                            "      <td>0.000000</td>\n",
                            "      <td>1.000000</td>\n",
                            "      <td>0.000000</td>\n",
                            "    </tr>\n",
                            "    <tr>\n",
                            "      <th>25%</th>\n",
                            "      <td>69.000000</td>\n",
                            "      <td>1.000000</td>\n",
                            "      <td>1.000000</td>\n",
                            "      <td>0.040000</td>\n",
                            "      <td>1.000000</td>\n",
                            "      <td>0.000000</td>\n",
                            "    </tr>\n",
                            "    <tr>\n",
                            "      <th>50%</th>\n",
                            "      <td>106.000000</td>\n",
                            "      <td>3.000000</td>\n",
                            "      <td>5.000000</td>\n",
                            "      <td>0.370000</td>\n",
                            "      <td>1.000000</td>\n",
                            "      <td>45.000000</td>\n",
                            "    </tr>\n",
                            "    <tr>\n",
                            "      <th>75%</th>\n",
                            "      <td>175.000000</td>\n",
                            "      <td>5.000000</td>\n",
                            "      <td>24.000000</td>\n",
                            "      <td>1.580000</td>\n",
                            "      <td>2.000000</td>\n",
                            "      <td>227.000000</td>\n",
                            "    </tr>\n",
                            "    <tr>\n",
                            "      <th>max</th>\n",
                            "      <td>10000.000000</td>\n",
                            "      <td>1250.000000</td>\n",
                            "      <td>629.000000</td>\n",
                            "      <td>58.500000</td>\n",
                            "      <td>327.000000</td>\n",
                            "      <td>365.000000</td>\n",
                            "    </tr>\n",
                            "  </tbody>\n",
                            "</table>\n",
                            "</div>"
                        ],
                        "text/plain": [
                            "              price  minimum_nights  number_of_reviews  reviews_per_month  \\\n",
                            "count  48895.000000    48895.000000       48895.000000       48895.000000   \n",
                            "mean     152.720687        7.029962          23.274466           1.090910   \n",
                            "std      240.154170       20.510550          44.550582           1.597283   \n",
                            "min        0.000000        1.000000           0.000000           0.000000   \n",
                            "25%       69.000000        1.000000           1.000000           0.040000   \n",
                            "50%      106.000000        3.000000           5.000000           0.370000   \n",
                            "75%      175.000000        5.000000          24.000000           1.580000   \n",
                            "max    10000.000000     1250.000000         629.000000          58.500000   \n",
                            "\n",
                            "       calculated_host_listings_count  availability_365  \n",
                            "count                    48895.000000      48895.000000  \n",
                            "mean                         7.143982        112.781327  \n",
                            "std                         32.952519        131.622289  \n",
                            "min                          1.000000          0.000000  \n",
                            "25%                          1.000000          0.000000  \n",
                            "50%                          1.000000         45.000000  \n",
                            "75%                          2.000000        227.000000  \n",
                            "max                        327.000000        365.000000  "
                        ]
                    },
                    "execution_count": 26,
                    "metadata": {},
                    "output_type": "execute_result"
                }
            ],
            "source": [
                "#examine the dataset\n",
                "(df[['price', 'minimum_nights', 'number_of_reviews', 'reviews_per_month',\n",
                "       'calculated_host_listings_count', 'availability_365']]\n",
                " .describe())"
            ]
        },
        {
            "cell_type": "code",
            "execution_count": 27,
            "metadata": {},
            "outputs": [],
            "source": [
                "#Since the min price is 0, let's remove these airbnb's, filtering the data greater than 0 and storing it again in our variable\n",
                "df = df.loc[df['price'] > 0]"
            ]
        },
        {
            "cell_type": "code",
            "execution_count": 28,
            "metadata": {},
            "outputs": [
                {
                    "data": {
                        "text/html": [
                            "<div>\n",
                            "<style scoped>\n",
                            "    .dataframe tbody tr th:only-of-type {\n",
                            "        vertical-align: middle;\n",
                            "    }\n",
                            "\n",
                            "    .dataframe tbody tr th {\n",
                            "        vertical-align: top;\n",
                            "    }\n",
                            "\n",
                            "    .dataframe thead th {\n",
                            "        text-align: right;\n",
                            "    }\n",
                            "</style>\n",
                            "<table border=\"1\" class=\"dataframe\">\n",
                            "  <thead>\n",
                            "    <tr style=\"text-align: right;\">\n",
                            "      <th></th>\n",
                            "      <th>host_id</th>\n",
                            "      <th>latitude</th>\n",
                            "      <th>longitude</th>\n",
                            "      <th>price</th>\n",
                            "      <th>minimum_nights</th>\n",
                            "      <th>number_of_reviews</th>\n",
                            "      <th>reviews_per_month</th>\n",
                            "      <th>calculated_host_listings_count</th>\n",
                            "      <th>availability_365</th>\n",
                            "    </tr>\n",
                            "  </thead>\n",
                            "  <tbody>\n",
                            "    <tr>\n",
                            "      <th>count</th>\n",
                            "      <td>4.888400e+04</td>\n",
                            "      <td>48884.000000</td>\n",
                            "      <td>48884.000000</td>\n",
                            "      <td>48884.000000</td>\n",
                            "      <td>48884.000000</td>\n",
                            "      <td>48884.000000</td>\n",
                            "      <td>48884.000000</td>\n",
                            "      <td>48884.000000</td>\n",
                            "      <td>48884.000000</td>\n",
                            "    </tr>\n",
                            "    <tr>\n",
                            "      <th>mean</th>\n",
                            "      <td>6.762203e+07</td>\n",
                            "      <td>40.728953</td>\n",
                            "      <td>-73.952176</td>\n",
                            "      <td>152.755053</td>\n",
                            "      <td>7.029887</td>\n",
                            "      <td>23.271991</td>\n",
                            "      <td>1.090800</td>\n",
                            "      <td>7.144628</td>\n",
                            "      <td>112.779498</td>\n",
                            "    </tr>\n",
                            "    <tr>\n",
                            "      <th>std</th>\n",
                            "      <td>7.861666e+07</td>\n",
                            "      <td>0.054532</td>\n",
                            "      <td>0.046159</td>\n",
                            "      <td>240.170260</td>\n",
                            "      <td>20.512224</td>\n",
                            "      <td>44.551331</td>\n",
                            "      <td>1.597213</td>\n",
                            "      <td>32.956185</td>\n",
                            "      <td>131.627271</td>\n",
                            "    </tr>\n",
                            "    <tr>\n",
                            "      <th>min</th>\n",
                            "      <td>2.438000e+03</td>\n",
                            "      <td>40.499790</td>\n",
                            "      <td>-74.244420</td>\n",
                            "      <td>10.000000</td>\n",
                            "      <td>1.000000</td>\n",
                            "      <td>0.000000</td>\n",
                            "      <td>0.000000</td>\n",
                            "      <td>1.000000</td>\n",
                            "      <td>0.000000</td>\n",
                            "    </tr>\n",
                            "    <tr>\n",
                            "      <th>25%</th>\n",
                            "      <td>7.817310e+06</td>\n",
                            "      <td>40.690100</td>\n",
                            "      <td>-73.983080</td>\n",
                            "      <td>69.000000</td>\n",
                            "      <td>1.000000</td>\n",
                            "      <td>1.000000</td>\n",
                            "      <td>0.040000</td>\n",
                            "      <td>1.000000</td>\n",
                            "      <td>0.000000</td>\n",
                            "    </tr>\n",
                            "    <tr>\n",
                            "      <th>50%</th>\n",
                            "      <td>3.079257e+07</td>\n",
                            "      <td>40.723080</td>\n",
                            "      <td>-73.955685</td>\n",
                            "      <td>106.000000</td>\n",
                            "      <td>3.000000</td>\n",
                            "      <td>5.000000</td>\n",
                            "      <td>0.370000</td>\n",
                            "      <td>1.000000</td>\n",
                            "      <td>45.000000</td>\n",
                            "    </tr>\n",
                            "    <tr>\n",
                            "      <th>75%</th>\n",
                            "      <td>1.074344e+08</td>\n",
                            "      <td>40.763120</td>\n",
                            "      <td>-73.936290</td>\n",
                            "      <td>175.000000</td>\n",
                            "      <td>5.000000</td>\n",
                            "      <td>24.000000</td>\n",
                            "      <td>1.580000</td>\n",
                            "      <td>2.000000</td>\n",
                            "      <td>227.000000</td>\n",
                            "    </tr>\n",
                            "    <tr>\n",
                            "      <th>max</th>\n",
                            "      <td>2.743213e+08</td>\n",
                            "      <td>40.913060</td>\n",
                            "      <td>-73.712990</td>\n",
                            "      <td>10000.000000</td>\n",
                            "      <td>1250.000000</td>\n",
                            "      <td>629.000000</td>\n",
                            "      <td>58.500000</td>\n",
                            "      <td>327.000000</td>\n",
                            "      <td>365.000000</td>\n",
                            "    </tr>\n",
                            "  </tbody>\n",
                            "</table>\n",
                            "</div>"
                        ],
                        "text/plain": [
                            "            host_id      latitude     longitude         price  minimum_nights  \\\n",
                            "count  4.888400e+04  48884.000000  48884.000000  48884.000000    48884.000000   \n",
                            "mean   6.762203e+07     40.728953    -73.952176    152.755053        7.029887   \n",
                            "std    7.861666e+07      0.054532      0.046159    240.170260       20.512224   \n",
                            "min    2.438000e+03     40.499790    -74.244420     10.000000        1.000000   \n",
                            "25%    7.817310e+06     40.690100    -73.983080     69.000000        1.000000   \n",
                            "50%    3.079257e+07     40.723080    -73.955685    106.000000        3.000000   \n",
                            "75%    1.074344e+08     40.763120    -73.936290    175.000000        5.000000   \n",
                            "max    2.743213e+08     40.913060    -73.712990  10000.000000     1250.000000   \n",
                            "\n",
                            "       number_of_reviews  reviews_per_month  calculated_host_listings_count  \\\n",
                            "count       48884.000000       48884.000000                    48884.000000   \n",
                            "mean           23.271991           1.090800                        7.144628   \n",
                            "std            44.551331           1.597213                       32.956185   \n",
                            "min             0.000000           0.000000                        1.000000   \n",
                            "25%             1.000000           0.040000                        1.000000   \n",
                            "50%             5.000000           0.370000                        1.000000   \n",
                            "75%            24.000000           1.580000                        2.000000   \n",
                            "max           629.000000          58.500000                      327.000000   \n",
                            "\n",
                            "       availability_365  \n",
                            "count      48884.000000  \n",
                            "mean         112.779498  \n",
                            "std          131.627271  \n",
                            "min            0.000000  \n",
                            "25%            0.000000  \n",
                            "50%           45.000000  \n",
                            "75%          227.000000  \n",
                            "max          365.000000  "
                        ]
                    },
                    "execution_count": 28,
                    "metadata": {},
                    "output_type": "execute_result"
                }
            ],
            "source": [
                "df.describe()"
            ]
        },
        {
            "cell_type": "code",
            "execution_count": 33,
            "metadata": {},
            "outputs": [
                {
                    "data": {
                        "text/plain": [
                            "array(['Brooklyn', 'Manhattan', 'Queens', 'Staten Island', 'Bronx'],\n",
                            "      dtype=object)"
                        ]
                    },
                    "execution_count": 33,
                    "metadata": {},
                    "output_type": "execute_result"
                }
            ],
            "source": [
                "df.neighbourhood_group.unique()"
            ]
        },
        {
            "cell_type": "code",
            "execution_count": 66,
            "metadata": {},
            "outputs": [
                {
                    "data": {
                        "text/plain": [
                            "neighbourhood_group\n",
                            "Manhattan        21660\n",
                            "Brooklyn         20095\n",
                            "Queens            5666\n",
                            "Bronx             1090\n",
                            "Staten Island      373\n",
                            "Name: count, dtype: int64"
                        ]
                    },
                    "execution_count": 66,
                    "metadata": {},
                    "output_type": "execute_result"
                }
            ],
            "source": [
                "df.neighbourhood_group.value_counts()"
            ]
        },
        {
            "cell_type": "code",
            "execution_count": 35,
            "metadata": {},
            "outputs": [
                {
                    "data": {
                        "text/plain": [
                            "array(['Private room', 'Entire home/apt', 'Shared room'], dtype=object)"
                        ]
                    },
                    "execution_count": 35,
                    "metadata": {},
                    "output_type": "execute_result"
                }
            ],
            "source": [
                "df.room_type.unique()"
            ]
        },
        {
            "cell_type": "code",
            "execution_count": 67,
            "metadata": {},
            "outputs": [
                {
                    "data": {
                        "text/plain": [
                            "room_type\n",
                            "Entire home/apt    25407\n",
                            "Private room       22319\n",
                            "Shared room         1158\n",
                            "Name: count, dtype: int64"
                        ]
                    },
                    "execution_count": 67,
                    "metadata": {},
                    "output_type": "execute_result"
                }
            ],
            "source": [
                "df.room_type.value_counts()"
            ]
        },
        {
            "cell_type": "markdown",
            "metadata": {},
            "source": [
                "## Visualize some data"
            ]
        },
        {
            "cell_type": "markdown",
            "metadata": {},
            "source": [
                "### The most common room types"
            ]
        },
        {
            "cell_type": "code",
            "execution_count": 63,
            "metadata": {},
            "outputs": [
                {
                    "data": {
                        "image/png": "[encoded data removed]",
                        "text/plain": [
                            "<Figure size 500x500 with 1 Axes>"
                        ]
                    },
                    "metadata": {},
                    "output_type": "display_data"
                }
            ],
            "source": [
                "import matplotlib.pyplot as plt\n",
                "\n",
                "room_type_pie = df['room_type'].value_counts()\n",
                "explode = (0.01, 0.01, 0.01)\n",
                "pastel_colors = ['#FFCC99', '#FF9999', '#99CC99']\n",
                "plt.figure(figsize=(5, 5))\n",
                "plt.pie(room_type_pie, labels=room_type_pie.index.tolist(), autopct='%1.1f%%', explode=explode, colors=pastel_colors)\n",
                "plt.show()"
            ]
        },
        {
            "cell_type": "markdown",
            "metadata": {},
            "source": [
                "### Most common neighbourhood groups"
            ]
        },
        {
            "cell_type": "code",
            "execution_count": 74,
            "metadata": {},
            "outputs": [
                {
                    "data": {
                        "image/png": "[encoded data removed]",
                        "text/plain": [
                            "<Figure size 500x500 with 1 Axes>"
                        ]
                    },
                    "metadata": {},
                    "output_type": "display_data"
                }
            ],
            "source": [
                "\n",
                "neigbhd_type_frequency = df.neighbourhood_group.value_counts()\n",
                "plt.figure(figsize=(5,5))\n",
                "explode = (0.01, 0.01, 0.01, 0.01, 0.01)\n",
                "plt.pie(neigbhd_type_frequency, labels=neigbhd_type_frequency.index.tolist(), autopct='%1.1f%%', explode=explode)\n",
                "plt.show()"
            ]
        },
        {
            "cell_type": "code",
            "execution_count": null,
            "metadata": {},
            "outputs": [],
            "source": []
        }
    ],
    "metadata": {
        "kernelspec": {
            "display_name": "Python 3.8.13 64-bit ('3.8.13')",
            "language": "python",
            "name": "python3"
        },
        "language_info": {
            "codemirror_mode": {
                "name": "ipython",
                "version": 3
            },
            "file_extension": ".py",
            "mimetype": "text/x-python",
            "name": "python",
            "nbconvert_exporter": "python",
            "pygments_lexer": "ipython3",
            "version": "3.10.12"
        },
        "orig_nbformat": 4,
        "vscode": {
            "interpreter": {
                "hash": "110cc1dee26208153f2972f08a2ad52b6a56238dc66d48e87fb757ef2996db56"
            }
        }
    },
    "nbformat": 4,
    "nbformat_minor": 2
}
